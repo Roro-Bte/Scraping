{
 "cells": [
  {
   "cell_type": "code",
   "execution_count": 35,
   "metadata": {},
   "outputs": [
    {
     "data": {
      "text/html": [
       "        <script type=\"text/javascript\">\n",
       "        window.PlotlyConfig = {MathJaxConfig: 'local'};\n",
       "        if (window.MathJax) {MathJax.Hub.Config({SVG: {font: \"STIX-Web\"}});}\n",
       "        if (typeof require !== 'undefined') {\n",
       "        require.undef(\"plotly\");\n",
       "        requirejs.config({\n",
       "            paths: {\n",
       "                'plotly': ['https://cdn.plot.ly/plotly-latest.min']\n",
       "            }\n",
       "        });\n",
       "        require(['plotly'], function(Plotly) {\n",
       "            window._Plotly = Plotly;\n",
       "        });\n",
       "        }\n",
       "        </script>\n",
       "        "
      ]
     },
     "metadata": {},
     "output_type": "display_data"
    }
   ],
   "source": [
    "from bs4 import BeautifulSoup\n",
    "import requests\n",
    "import pandas as pd\n",
    "import time\n",
    "import numpy as np\n",
    "\n",
    "import plotly.graph_objs as go\n",
    "import chart_studio.plotly as py\n",
    "import cufflinks\n",
    "from plotly.offline import iplot\n",
    "cufflinks.go_offline()\n",
    "# Set global theme\n",
    "cufflinks.set_config_file(world_readable=True, theme='white')"
   ]
  },
  {
   "cell_type": "code",
   "execution_count": 36,
   "metadata": {},
   "outputs": [
    {
     "name": "stdout",
     "output_type": "stream",
     "text": [
      "https://www.chileautos.cl/vehiculos/?q=(And.(C.Marca.Volkswagen._.Modelo.gol.)_.TipoVehículo.Autos%2c+camionetas+y+4x4._.Servicio.ChileAutos._.Ano.range(2010..).)\n"
     ]
    }
   ],
   "source": [
    "# Parámetros a modificar\n",
    "\n",
    "#modelo = \"Volkswagen\"\n",
    "marca = \"Volkswagen\"\n",
    "modelo = \"gol\"\n",
    "año = \"2010\"\n",
    "url = \"https://www.chileautos.cl/vehiculos/?q=(And.(C.Marca.{}._.Modelo.{}.)_.TipoVehículo.Autos%2c+camionetas+y+4x4._.Servicio.ChileAutos._.Ano.range({}..).)\".format(marca, modelo, año)\n",
    "print(url)\n"
   ]
  },
  {
   "cell_type": "code",
   "execution_count": 28,
   "metadata": {},
   "outputs": [],
   "source": [
    "# headers = {'User-Agent': 'Mozilla/5.0 (Macintosh; Intel Mac OS X 10_10_1) AppleWebKit/537.36 (KHTML, like Gecko) Chrome/39.0.2171.95 Safari/537.36'}\n",
    "# req = requests.get(url=url, headers=headers)\n",
    "\n",
    "# soup = BeautifulSoup(req.content, \"html.parser\")\n",
    "# dataSet = soup.find_all(\"div\", {\"class\": \"listing-item showcase\"}) #tag que contiene la info de cada auto\n",
    "\n",
    "\n"
   ]
  },
  {
   "cell_type": "code",
   "execution_count": 37,
   "metadata": {},
   "outputs": [
    {
     "name": "stdout",
     "output_type": "stream",
     "text": [
      "Pagina:  1\n",
      "Pagina:  2\n",
      "Pagina:  3\n",
      "Pagina:  4\n",
      "Pagina:  5\n",
      "Pagina:  6\n",
      "Pagina:  7\n",
      "Pagina:  8\n",
      "Pagina:  9\n",
      "Pagina:  10\n",
      "Pagina:  11\n",
      "Pagina:  12\n",
      "Pagina:  13\n",
      "Pagina:  14\n",
      "Pagina:  15\n",
      "Terminado\n"
     ]
    }
   ],
   "source": [
    "headers = {'User-Agent': 'Mozilla/5.0 (Macintosh; Intel Mac OS X 10_10_1) AppleWebKit/537.36 (KHTML, like Gecko) Chrome/39.0.2171.95 Safari/537.36'}\n",
    "req = requests.get(url=url, headers=headers)\n",
    "\n",
    "soup = BeautifulSoup(req.content, \"html.parser\")\n",
    "dataSet = soup.find_all(\"div\", {\"class\": \"listing-item showcase\"}) #tag que contiene la info de cada auto\n",
    "\n",
    "infoSet = []\n",
    "\n",
    "seguir = True\n",
    "pagina = 1\n",
    "\n",
    "while seguir == True: \n",
    "    print(\"Pagina: \", pagina)\n",
    "    for carro in dataSet:\n",
    "        d = {}\n",
    "\n",
    "        try:\n",
    "            titulo = carro.find(\"a\", {\"class\": \"js-encode-search\"}).text.strip()\n",
    "        except:\n",
    "            titulo = None\n",
    "\n",
    "        if (marca in titulo): # pq a veces hay ofertas promoted en medio de los resultados\n",
    "            try:\n",
    "                d[\"Precio\"] = carro.find(\"div\", {\"class\": \"price\"}).text.strip()\n",
    "            except:\n",
    "                d[\"Precio\"] = None\n",
    "\n",
    "            try:\n",
    "                d[\"Titulo\"] = carro.find(\"a\", {\"class\": \"js-encode-search\"}).text.strip()\n",
    "            except:\n",
    "                d[\"Titulo\"] = None\n",
    "\n",
    "            try:\n",
    "                d[\"Kilometraje\"] = carro.find(\"div\", {\"data-type\": \"Odometer\"}).text.strip()\n",
    "            except:\n",
    "                d[\"Kilometraje\"] = None\n",
    "                \n",
    "            try:\n",
    "                d[\"Combustible\"] = carro.find(\"div\", {\"data-type\": \"Fuel Type\"}).text.strip()\n",
    "            except:\n",
    "                d[\"Combustible\"] = None    \n",
    "            \n",
    "            try:\n",
    "                link_html = carro.find(\"a\", {\"class\": \"btn btn-primary js-encode-search\"})\n",
    "                d[\"Link\"] = \"https://www.chileautos.cl\" + link_html.get('href')\n",
    "            except:\n",
    "                d[\"Link\"] = None\n",
    "                \n",
    "            infoSet.append(d)\n",
    "\n",
    "    try:\n",
    "        nextPage = soup.find_all(\"a\", {\"class\": \"page-link next\"})\n",
    "        nextPage = nextPage[0].get('href')\n",
    "        nextPage = nextPage[1:]\n",
    "        req = requests.get(url=\"https://www.chileautos.cl/\" + nextPage, headers=headers)\n",
    "        #time.sleep(1)\n",
    "        soup = BeautifulSoup(req.content, \"html.parser\")\n",
    "        dataSet = soup.find_all(\"div\", {\"class\": \"listing-item standard\"})\n",
    "        pagina += 1\n",
    "        \n",
    "    except: # esto pasa cuando no encuentra \n",
    "        seguir = False\n",
    "        print(\"Terminado\")\n",
    "        \n",
    "    "
   ]
  },
  {
   "cell_type": "code",
   "execution_count": 40,
   "metadata": {},
   "outputs": [],
   "source": [
    "# transformar la lista a dataFrame\n",
    "df = pd.DataFrame(infoSet)"
   ]
  },
  {
   "cell_type": "code",
   "execution_count": 41,
   "metadata": {},
   "outputs": [],
   "source": [
    "df[\"Kilometraje\"].fillna(np.nan, inplace=True)\n",
    "df.dropna(axis=0, inplace=True, subset = [\"Kilometraje\"])\n",
    "df[\"Precio\"].fillna(np.nan, inplace=True)\n",
    "df.dropna(axis=0, inplace=True, subset = [\"Precio\"])"
   ]
  },
  {
   "cell_type": "code",
   "execution_count": 42,
   "metadata": {},
   "outputs": [],
   "source": [
    "# limpiar el precio y kilometraje\n",
    "df['Precio'] = df['Precio'].str.replace('CLP', '').str.replace('$', '').str.replace('.', '').str.strip()\n",
    "df['Kilometraje'] = df['Kilometraje'].str.replace('km', '').str.replace('KM', '').str.replace('.', '').str.strip()\n",
    "df['Precio'] = df['Precio'].astype('int')\n",
    "df['Kilometraje'] = df['Kilometraje'].astype('int')\n",
    "    "
   ]
  },
  {
   "cell_type": "code",
   "execution_count": 43,
   "metadata": {},
   "outputs": [
    {
     "data": {
      "text/html": [
       "<div>\n",
       "<style scoped>\n",
       "    .dataframe tbody tr th:only-of-type {\n",
       "        vertical-align: middle;\n",
       "    }\n",
       "\n",
       "    .dataframe tbody tr th {\n",
       "        vertical-align: top;\n",
       "    }\n",
       "\n",
       "    .dataframe thead th {\n",
       "        text-align: right;\n",
       "    }\n",
       "</style>\n",
       "<table border=\"1\" class=\"dataframe\">\n",
       "  <thead>\n",
       "    <tr style=\"text-align: right;\">\n",
       "      <th></th>\n",
       "      <th>Precio</th>\n",
       "      <th>Titulo</th>\n",
       "      <th>Kilometraje</th>\n",
       "      <th>Combustible</th>\n",
       "      <th>Link</th>\n",
       "    </tr>\n",
       "  </thead>\n",
       "  <tbody>\n",
       "    <tr>\n",
       "      <th>0</th>\n",
       "      <td>4390000</td>\n",
       "      <td>2013 Volkswagen Gol 1.6 Power 2AB</td>\n",
       "      <td>74000</td>\n",
       "      <td>Bencina</td>\n",
       "      <td>https://www.chileautos.cl/vehiculos/detalles/2...</td>\n",
       "    </tr>\n",
       "    <tr>\n",
       "      <th>1</th>\n",
       "      <td>5200000</td>\n",
       "      <td>2018 Volkswagen Gol 1.6 Manual Trendline</td>\n",
       "      <td>69373</td>\n",
       "      <td>Bencina</td>\n",
       "      <td>https://www.chileautos.cl/vehiculos/detalles/2...</td>\n",
       "    </tr>\n",
       "    <tr>\n",
       "      <th>2</th>\n",
       "      <td>7190000</td>\n",
       "      <td>2018 Volkswagen Gol 1.6 Manual Power</td>\n",
       "      <td>13000</td>\n",
       "      <td>Bencina</td>\n",
       "      <td>https://www.chileautos.cl/vehiculos/detalles/2...</td>\n",
       "    </tr>\n",
       "    <tr>\n",
       "      <th>3</th>\n",
       "      <td>6990000</td>\n",
       "      <td>2019 Volkswagen Gol 1.6 Comfortline</td>\n",
       "      <td>8000</td>\n",
       "      <td>Bencina</td>\n",
       "      <td>https://www.chileautos.cl/vehiculos/detalles/2...</td>\n",
       "    </tr>\n",
       "    <tr>\n",
       "      <th>4</th>\n",
       "      <td>6650000</td>\n",
       "      <td>2019 Volkswagen Gol 1.6 Highline</td>\n",
       "      <td>25900</td>\n",
       "      <td>Bencina</td>\n",
       "      <td>https://www.chileautos.cl/vehiculos/detalles/2...</td>\n",
       "    </tr>\n",
       "    <tr>\n",
       "      <th>...</th>\n",
       "      <td>...</td>\n",
       "      <td>...</td>\n",
       "      <td>...</td>\n",
       "      <td>...</td>\n",
       "      <td>...</td>\n",
       "    </tr>\n",
       "    <tr>\n",
       "      <th>151</th>\n",
       "      <td>8090000</td>\n",
       "      <td>2020 Volkswagen GOL Nuevo Gol Highline 1.6</td>\n",
       "      <td>100</td>\n",
       "      <td>Bencina</td>\n",
       "      <td>https://www.chileautos.cl/vehiculos/detalles/2...</td>\n",
       "    </tr>\n",
       "    <tr>\n",
       "      <th>152</th>\n",
       "      <td>6190000</td>\n",
       "      <td>2018 Volkswagen GOL GOL HB 1.6</td>\n",
       "      <td>10036</td>\n",
       "      <td>Bencina</td>\n",
       "      <td>https://www.chileautos.cl/vehiculos/detalles/2...</td>\n",
       "    </tr>\n",
       "    <tr>\n",
       "      <th>153</th>\n",
       "      <td>5990000</td>\n",
       "      <td>2018 Volkswagen GOL GOL POWER 1.6</td>\n",
       "      <td>68000</td>\n",
       "      <td>Bencina</td>\n",
       "      <td>https://www.chileautos.cl/vehiculos/detalles/2...</td>\n",
       "    </tr>\n",
       "    <tr>\n",
       "      <th>154</th>\n",
       "      <td>6990000</td>\n",
       "      <td>2019 Volkswagen GOL Nuevo Gol Highline 1.6</td>\n",
       "      <td>10000</td>\n",
       "      <td>Bencina</td>\n",
       "      <td>https://www.chileautos.cl/vehiculos/detalles/2...</td>\n",
       "    </tr>\n",
       "    <tr>\n",
       "      <th>155</th>\n",
       "      <td>5950000</td>\n",
       "      <td>2017 Volkswagen GOL GOL POWER 1.6</td>\n",
       "      <td>31347</td>\n",
       "      <td>Bencina</td>\n",
       "      <td>https://www.chileautos.cl/vehiculos/detalles/2...</td>\n",
       "    </tr>\n",
       "  </tbody>\n",
       "</table>\n",
       "<p>148 rows × 5 columns</p>\n",
       "</div>"
      ],
      "text/plain": [
       "      Precio                                      Titulo  Kilometraje  \\\n",
       "0    4390000           2013 Volkswagen Gol 1.6 Power 2AB        74000   \n",
       "1    5200000    2018 Volkswagen Gol 1.6 Manual Trendline        69373   \n",
       "2    7190000        2018 Volkswagen Gol 1.6 Manual Power        13000   \n",
       "3    6990000         2019 Volkswagen Gol 1.6 Comfortline         8000   \n",
       "4    6650000            2019 Volkswagen Gol 1.6 Highline        25900   \n",
       "..       ...                                         ...          ...   \n",
       "151  8090000  2020 Volkswagen GOL Nuevo Gol Highline 1.6          100   \n",
       "152  6190000              2018 Volkswagen GOL GOL HB 1.6        10036   \n",
       "153  5990000           2018 Volkswagen GOL GOL POWER 1.6        68000   \n",
       "154  6990000  2019 Volkswagen GOL Nuevo Gol Highline 1.6        10000   \n",
       "155  5950000           2017 Volkswagen GOL GOL POWER 1.6        31347   \n",
       "\n",
       "    Combustible                                               Link  \n",
       "0       Bencina  https://www.chileautos.cl/vehiculos/detalles/2...  \n",
       "1       Bencina  https://www.chileautos.cl/vehiculos/detalles/2...  \n",
       "2       Bencina  https://www.chileautos.cl/vehiculos/detalles/2...  \n",
       "3       Bencina  https://www.chileautos.cl/vehiculos/detalles/2...  \n",
       "4       Bencina  https://www.chileautos.cl/vehiculos/detalles/2...  \n",
       "..          ...                                                ...  \n",
       "151     Bencina  https://www.chileautos.cl/vehiculos/detalles/2...  \n",
       "152     Bencina  https://www.chileautos.cl/vehiculos/detalles/2...  \n",
       "153     Bencina  https://www.chileautos.cl/vehiculos/detalles/2...  \n",
       "154     Bencina  https://www.chileautos.cl/vehiculos/detalles/2...  \n",
       "155     Bencina  https://www.chileautos.cl/vehiculos/detalles/2...  \n",
       "\n",
       "[148 rows x 5 columns]"
      ]
     },
     "execution_count": 43,
     "metadata": {},
     "output_type": "execute_result"
    }
   ],
   "source": [
    "df"
   ]
  },
  {
   "cell_type": "code",
   "execution_count": 44,
   "metadata": {},
   "outputs": [
    {
     "data": {
      "text/html": [
       "<div>\n",
       "<style scoped>\n",
       "    .dataframe tbody tr th:only-of-type {\n",
       "        vertical-align: middle;\n",
       "    }\n",
       "\n",
       "    .dataframe tbody tr th {\n",
       "        vertical-align: top;\n",
       "    }\n",
       "\n",
       "    .dataframe thead th {\n",
       "        text-align: right;\n",
       "    }\n",
       "</style>\n",
       "<table border=\"1\" class=\"dataframe\">\n",
       "  <thead>\n",
       "    <tr style=\"text-align: right;\">\n",
       "      <th></th>\n",
       "      <th>Precio</th>\n",
       "      <th>Kilometraje</th>\n",
       "    </tr>\n",
       "  </thead>\n",
       "  <tbody>\n",
       "    <tr>\n",
       "      <th>count</th>\n",
       "      <td>1.480000e+02</td>\n",
       "      <td>148.000000</td>\n",
       "    </tr>\n",
       "    <tr>\n",
       "      <th>mean</th>\n",
       "      <td>5.224210e+06</td>\n",
       "      <td>60328.493243</td>\n",
       "    </tr>\n",
       "    <tr>\n",
       "      <th>std</th>\n",
       "      <td>1.382870e+06</td>\n",
       "      <td>46425.206136</td>\n",
       "    </tr>\n",
       "    <tr>\n",
       "      <th>min</th>\n",
       "      <td>3.100000e+03</td>\n",
       "      <td>20.000000</td>\n",
       "    </tr>\n",
       "    <tr>\n",
       "      <th>25%</th>\n",
       "      <td>4.190000e+06</td>\n",
       "      <td>19750.000000</td>\n",
       "    </tr>\n",
       "    <tr>\n",
       "      <th>50%</th>\n",
       "      <td>5.395000e+06</td>\n",
       "      <td>54739.000000</td>\n",
       "    </tr>\n",
       "    <tr>\n",
       "      <th>75%</th>\n",
       "      <td>6.190000e+06</td>\n",
       "      <td>88000.000000</td>\n",
       "    </tr>\n",
       "    <tr>\n",
       "      <th>max</th>\n",
       "      <td>8.590000e+06</td>\n",
       "      <td>270000.000000</td>\n",
       "    </tr>\n",
       "  </tbody>\n",
       "</table>\n",
       "</div>"
      ],
      "text/plain": [
       "             Precio    Kilometraje\n",
       "count  1.480000e+02     148.000000\n",
       "mean   5.224210e+06   60328.493243\n",
       "std    1.382870e+06   46425.206136\n",
       "min    3.100000e+03      20.000000\n",
       "25%    4.190000e+06   19750.000000\n",
       "50%    5.395000e+06   54739.000000\n",
       "75%    6.190000e+06   88000.000000\n",
       "max    8.590000e+06  270000.000000"
      ]
     },
     "execution_count": 44,
     "metadata": {},
     "output_type": "execute_result"
    }
   ],
   "source": [
    "df.describe()"
   ]
  },
  {
   "cell_type": "code",
   "execution_count": 45,
   "metadata": {},
   "outputs": [],
   "source": [
    "# Crear columna con el año\n",
    "df['Año'] = df['Titulo'].str[:4].astype(int)"
   ]
  },
  {
   "cell_type": "code",
   "execution_count": 234,
   "metadata": {},
   "outputs": [
    {
     "data": {
      "text/html": [
       "<div>\n",
       "<style scoped>\n",
       "    .dataframe tbody tr th:only-of-type {\n",
       "        vertical-align: middle;\n",
       "    }\n",
       "\n",
       "    .dataframe tbody tr th {\n",
       "        vertical-align: top;\n",
       "    }\n",
       "\n",
       "    .dataframe thead th {\n",
       "        text-align: right;\n",
       "    }\n",
       "</style>\n",
       "<table border=\"1\" class=\"dataframe\">\n",
       "  <thead>\n",
       "    <tr style=\"text-align: right;\">\n",
       "      <th></th>\n",
       "      <th>Precio</th>\n",
       "      <th>Kilometraje</th>\n",
       "    </tr>\n",
       "  </thead>\n",
       "  <tbody>\n",
       "    <tr>\n",
       "      <th>count</th>\n",
       "      <td>49</td>\n",
       "      <td>49</td>\n",
       "    </tr>\n",
       "    <tr>\n",
       "      <th>mean</th>\n",
       "      <td>10814898</td>\n",
       "      <td>44718</td>\n",
       "    </tr>\n",
       "    <tr>\n",
       "      <th>std</th>\n",
       "      <td>2108162</td>\n",
       "      <td>22596</td>\n",
       "    </tr>\n",
       "    <tr>\n",
       "      <th>min</th>\n",
       "      <td>6900000</td>\n",
       "      <td>3569</td>\n",
       "    </tr>\n",
       "    <tr>\n",
       "      <th>25%</th>\n",
       "      <td>9290000</td>\n",
       "      <td>27700</td>\n",
       "    </tr>\n",
       "    <tr>\n",
       "      <th>50%</th>\n",
       "      <td>10290000</td>\n",
       "      <td>42840</td>\n",
       "    </tr>\n",
       "    <tr>\n",
       "      <th>75%</th>\n",
       "      <td>12790000</td>\n",
       "      <td>63000</td>\n",
       "    </tr>\n",
       "    <tr>\n",
       "      <th>max</th>\n",
       "      <td>15000000</td>\n",
       "      <td>92700</td>\n",
       "    </tr>\n",
       "  </tbody>\n",
       "</table>\n",
       "</div>"
      ],
      "text/plain": [
       "        Precio  Kilometraje\n",
       "count       49           49\n",
       "mean  10814898        44718\n",
       "std    2108162        22596\n",
       "min    6900000         3569\n",
       "25%    9290000        27700\n",
       "50%   10290000        42840\n",
       "75%   12790000        63000\n",
       "max   15000000        92700"
      ]
     },
     "execution_count": 234,
     "metadata": {},
     "output_type": "execute_result"
    }
   ],
   "source": [
    "# para solo bencina\n",
    "df[df[\"Combustible\"] == \"Bencina\"].describe()"
   ]
  },
  {
   "cell_type": "code",
   "execution_count": 51,
   "metadata": {},
   "outputs": [],
   "source": [
    "df.to_excel(\"lista_autos.xlsx\")"
   ]
  },
  {
   "cell_type": "code",
   "execution_count": 46,
   "metadata": {},
   "outputs": [
    {
     "data": {
      "application/vnd.plotly.v1+json": {
       "config": {
        "linkText": "Export to plotly.com",
        "plotlyServerURL": "https://plotly.com",
        "showLink": true
       },
       "data": [
        {
         "line": {
          "color": "rgba(166, 206, 227, 1.0)",
          "dash": "solid",
          "shape": "linear",
          "width": 1.3
         },
         "marker": {
          "size": 10,
          "symbol": "x"
         },
         "mode": "markers",
         "name": "Precio",
         "text": "",
         "type": "scatter",
         "x": [
          2013,
          2018,
          2018,
          2019,
          2019,
          2019,
          2018,
          2013,
          2017,
          2013,
          2014,
          2013,
          2012,
          2018,
          2013,
          2016,
          2019,
          2018,
          2018,
          2017,
          2017,
          2017,
          2017,
          2017,
          2018,
          2020,
          2018,
          2019,
          2017,
          2019,
          2014,
          2017,
          2019,
          2017,
          2020,
          2019,
          2014,
          2020,
          2020,
          2013,
          2011,
          2017,
          2020,
          2012,
          2019,
          2014,
          2017,
          2017,
          2013,
          2012,
          2017,
          2018,
          2012,
          2018,
          2013,
          2017,
          2011,
          2012,
          2013,
          2011,
          2011,
          2011,
          2016,
          2012,
          2019,
          2016,
          2017,
          2020,
          2016,
          2012,
          2016,
          2017,
          2012,
          2017,
          2014,
          2017,
          2017,
          2014,
          2016,
          2012,
          2020,
          2018,
          2011,
          2012,
          2011,
          2018,
          2019,
          2018,
          2014,
          2017,
          2012,
          2016,
          2019,
          2017,
          2019,
          2018,
          2017,
          2014,
          2018,
          2014,
          2012,
          2020,
          2014,
          2012,
          2011,
          2019,
          2016,
          2012,
          2019,
          2010,
          2019,
          2013,
          2017,
          2011,
          2012,
          2013,
          2011,
          2016,
          2010,
          2012,
          2018,
          2018,
          2013,
          2010,
          2014,
          2012,
          2017,
          2017,
          2018,
          2016,
          2016,
          2012,
          2012,
          2019,
          2017,
          2013,
          2012,
          2012,
          2014,
          2020,
          2019,
          2017,
          2014,
          2020,
          2018,
          2018,
          2019,
          2017
         ],
         "y": [
          4390000,
          5200000,
          7190000,
          6990000,
          6650000,
          6590000,
          5780000,
          4200000,
          5780000,
          5000000,
          4190000,
          4400000,
          3700000,
          6190000,
          4150000,
          4490000,
          5990000,
          5890000,
          5490000,
          5190000,
          5790000,
          6300000,
          5150000,
          5700000,
          5490000,
          8490000,
          6490000,
          6280000,
          5980000,
          6000000,
          3990000,
          6490000,
          6790000,
          5990000,
          6990000,
          7490000,
          4980000,
          7090000,
          6990000,
          3490000,
          3980000,
          5890000,
          8090000,
          4190000,
          6790000,
          4990000,
          5700000,
          5880000,
          4500000,
          3200000,
          5990000,
          6190000,
          3800000,
          6490000,
          4700000,
          5700000,
          3200000,
          3600000,
          4500000,
          3550000,
          3100,
          4800000,
          3000000,
          3100000,
          7000000,
          5590000,
          5600000,
          7300000,
          4550000,
          3480000,
          4750000,
          5000000,
          3500000,
          6000000,
          4290000,
          5750000,
          5900000,
          4750000,
          4750000,
          3900000,
          7600000,
          5900000,
          3850000,
          4400000,
          3200000,
          6300000,
          7480000,
          5990000,
          5280000,
          6200000,
          3600000,
          6200000,
          5690000,
          6150000,
          5490000,
          5300000,
          5300000,
          4200000,
          5700000,
          3800000,
          5790000,
          6890000,
          4500000,
          2900000,
          3800000,
          6590000,
          4700000,
          2900000,
          6700000,
          2800000,
          5990000,
          4500000,
          6450000,
          3400000,
          3500000,
          4500000,
          3700000,
          5100000,
          3300000,
          3600000,
          5700000,
          6000000,
          4550000,
          3000000,
          4600000,
          3700000,
          6300000,
          5800000,
          6700000,
          4580000,
          4500000,
          3700000,
          3600000,
          7000000,
          5990000,
          4500000,
          3750000,
          3800000,
          4490000,
          8590000,
          6190000,
          6290000,
          4050000,
          8090000,
          6190000,
          5990000,
          6990000,
          5950000
         ]
        }
       ],
       "layout": {
        "legend": {
         "bgcolor": "#FFFFFF",
         "font": {
          "color": "#4D5663"
         }
        },
        "paper_bgcolor": "#FFFFFF",
        "plot_bgcolor": "#FFFFFF",
        "template": {
         "data": {
          "bar": [
           {
            "error_x": {
             "color": "#2a3f5f"
            },
            "error_y": {
             "color": "#2a3f5f"
            },
            "marker": {
             "line": {
              "color": "#E5ECF6",
              "width": 0.5
             }
            },
            "type": "bar"
           }
          ],
          "barpolar": [
           {
            "marker": {
             "line": {
              "color": "#E5ECF6",
              "width": 0.5
             }
            },
            "type": "barpolar"
           }
          ],
          "carpet": [
           {
            "aaxis": {
             "endlinecolor": "#2a3f5f",
             "gridcolor": "white",
             "linecolor": "white",
             "minorgridcolor": "white",
             "startlinecolor": "#2a3f5f"
            },
            "baxis": {
             "endlinecolor": "#2a3f5f",
             "gridcolor": "white",
             "linecolor": "white",
             "minorgridcolor": "white",
             "startlinecolor": "#2a3f5f"
            },
            "type": "carpet"
           }
          ],
          "choropleth": [
           {
            "colorbar": {
             "outlinewidth": 0,
             "ticks": ""
            },
            "type": "choropleth"
           }
          ],
          "contour": [
           {
            "colorbar": {
             "outlinewidth": 0,
             "ticks": ""
            },
            "colorscale": [
             [
              0,
              "#0d0887"
             ],
             [
              0.1111111111111111,
              "#46039f"
             ],
             [
              0.2222222222222222,
              "#7201a8"
             ],
             [
              0.3333333333333333,
              "#9c179e"
             ],
             [
              0.4444444444444444,
              "#bd3786"
             ],
             [
              0.5555555555555556,
              "#d8576b"
             ],
             [
              0.6666666666666666,
              "#ed7953"
             ],
             [
              0.7777777777777778,
              "#fb9f3a"
             ],
             [
              0.8888888888888888,
              "#fdca26"
             ],
             [
              1,
              "#f0f921"
             ]
            ],
            "type": "contour"
           }
          ],
          "contourcarpet": [
           {
            "colorbar": {
             "outlinewidth": 0,
             "ticks": ""
            },
            "type": "contourcarpet"
           }
          ],
          "heatmap": [
           {
            "colorbar": {
             "outlinewidth": 0,
             "ticks": ""
            },
            "colorscale": [
             [
              0,
              "#0d0887"
             ],
             [
              0.1111111111111111,
              "#46039f"
             ],
             [
              0.2222222222222222,
              "#7201a8"
             ],
             [
              0.3333333333333333,
              "#9c179e"
             ],
             [
              0.4444444444444444,
              "#bd3786"
             ],
             [
              0.5555555555555556,
              "#d8576b"
             ],
             [
              0.6666666666666666,
              "#ed7953"
             ],
             [
              0.7777777777777778,
              "#fb9f3a"
             ],
             [
              0.8888888888888888,
              "#fdca26"
             ],
             [
              1,
              "#f0f921"
             ]
            ],
            "type": "heatmap"
           }
          ],
          "heatmapgl": [
           {
            "colorbar": {
             "outlinewidth": 0,
             "ticks": ""
            },
            "colorscale": [
             [
              0,
              "#0d0887"
             ],
             [
              0.1111111111111111,
              "#46039f"
             ],
             [
              0.2222222222222222,
              "#7201a8"
             ],
             [
              0.3333333333333333,
              "#9c179e"
             ],
             [
              0.4444444444444444,
              "#bd3786"
             ],
             [
              0.5555555555555556,
              "#d8576b"
             ],
             [
              0.6666666666666666,
              "#ed7953"
             ],
             [
              0.7777777777777778,
              "#fb9f3a"
             ],
             [
              0.8888888888888888,
              "#fdca26"
             ],
             [
              1,
              "#f0f921"
             ]
            ],
            "type": "heatmapgl"
           }
          ],
          "histogram": [
           {
            "marker": {
             "colorbar": {
              "outlinewidth": 0,
              "ticks": ""
             }
            },
            "type": "histogram"
           }
          ],
          "histogram2d": [
           {
            "colorbar": {
             "outlinewidth": 0,
             "ticks": ""
            },
            "colorscale": [
             [
              0,
              "#0d0887"
             ],
             [
              0.1111111111111111,
              "#46039f"
             ],
             [
              0.2222222222222222,
              "#7201a8"
             ],
             [
              0.3333333333333333,
              "#9c179e"
             ],
             [
              0.4444444444444444,
              "#bd3786"
             ],
             [
              0.5555555555555556,
              "#d8576b"
             ],
             [
              0.6666666666666666,
              "#ed7953"
             ],
             [
              0.7777777777777778,
              "#fb9f3a"
             ],
             [
              0.8888888888888888,
              "#fdca26"
             ],
             [
              1,
              "#f0f921"
             ]
            ],
            "type": "histogram2d"
           }
          ],
          "histogram2dcontour": [
           {
            "colorbar": {
             "outlinewidth": 0,
             "ticks": ""
            },
            "colorscale": [
             [
              0,
              "#0d0887"
             ],
             [
              0.1111111111111111,
              "#46039f"
             ],
             [
              0.2222222222222222,
              "#7201a8"
             ],
             [
              0.3333333333333333,
              "#9c179e"
             ],
             [
              0.4444444444444444,
              "#bd3786"
             ],
             [
              0.5555555555555556,
              "#d8576b"
             ],
             [
              0.6666666666666666,
              "#ed7953"
             ],
             [
              0.7777777777777778,
              "#fb9f3a"
             ],
             [
              0.8888888888888888,
              "#fdca26"
             ],
             [
              1,
              "#f0f921"
             ]
            ],
            "type": "histogram2dcontour"
           }
          ],
          "mesh3d": [
           {
            "colorbar": {
             "outlinewidth": 0,
             "ticks": ""
            },
            "type": "mesh3d"
           }
          ],
          "parcoords": [
           {
            "line": {
             "colorbar": {
              "outlinewidth": 0,
              "ticks": ""
             }
            },
            "type": "parcoords"
           }
          ],
          "pie": [
           {
            "automargin": true,
            "type": "pie"
           }
          ],
          "scatter": [
           {
            "marker": {
             "colorbar": {
              "outlinewidth": 0,
              "ticks": ""
             }
            },
            "type": "scatter"
           }
          ],
          "scatter3d": [
           {
            "line": {
             "colorbar": {
              "outlinewidth": 0,
              "ticks": ""
             }
            },
            "marker": {
             "colorbar": {
              "outlinewidth": 0,
              "ticks": ""
             }
            },
            "type": "scatter3d"
           }
          ],
          "scattercarpet": [
           {
            "marker": {
             "colorbar": {
              "outlinewidth": 0,
              "ticks": ""
             }
            },
            "type": "scattercarpet"
           }
          ],
          "scattergeo": [
           {
            "marker": {
             "colorbar": {
              "outlinewidth": 0,
              "ticks": ""
             }
            },
            "type": "scattergeo"
           }
          ],
          "scattergl": [
           {
            "marker": {
             "colorbar": {
              "outlinewidth": 0,
              "ticks": ""
             }
            },
            "type": "scattergl"
           }
          ],
          "scattermapbox": [
           {
            "marker": {
             "colorbar": {
              "outlinewidth": 0,
              "ticks": ""
             }
            },
            "type": "scattermapbox"
           }
          ],
          "scatterpolar": [
           {
            "marker": {
             "colorbar": {
              "outlinewidth": 0,
              "ticks": ""
             }
            },
            "type": "scatterpolar"
           }
          ],
          "scatterpolargl": [
           {
            "marker": {
             "colorbar": {
              "outlinewidth": 0,
              "ticks": ""
             }
            },
            "type": "scatterpolargl"
           }
          ],
          "scatterternary": [
           {
            "marker": {
             "colorbar": {
              "outlinewidth": 0,
              "ticks": ""
             }
            },
            "type": "scatterternary"
           }
          ],
          "surface": [
           {
            "colorbar": {
             "outlinewidth": 0,
             "ticks": ""
            },
            "colorscale": [
             [
              0,
              "#0d0887"
             ],
             [
              0.1111111111111111,
              "#46039f"
             ],
             [
              0.2222222222222222,
              "#7201a8"
             ],
             [
              0.3333333333333333,
              "#9c179e"
             ],
             [
              0.4444444444444444,
              "#bd3786"
             ],
             [
              0.5555555555555556,
              "#d8576b"
             ],
             [
              0.6666666666666666,
              "#ed7953"
             ],
             [
              0.7777777777777778,
              "#fb9f3a"
             ],
             [
              0.8888888888888888,
              "#fdca26"
             ],
             [
              1,
              "#f0f921"
             ]
            ],
            "type": "surface"
           }
          ],
          "table": [
           {
            "cells": {
             "fill": {
              "color": "#EBF0F8"
             },
             "line": {
              "color": "white"
             }
            },
            "header": {
             "fill": {
              "color": "#C8D4E3"
             },
             "line": {
              "color": "white"
             }
            },
            "type": "table"
           }
          ]
         },
         "layout": {
          "annotationdefaults": {
           "arrowcolor": "#2a3f5f",
           "arrowhead": 0,
           "arrowwidth": 1
          },
          "coloraxis": {
           "colorbar": {
            "outlinewidth": 0,
            "ticks": ""
           }
          },
          "colorscale": {
           "diverging": [
            [
             0,
             "#8e0152"
            ],
            [
             0.1,
             "#c51b7d"
            ],
            [
             0.2,
             "#de77ae"
            ],
            [
             0.3,
             "#f1b6da"
            ],
            [
             0.4,
             "#fde0ef"
            ],
            [
             0.5,
             "#f7f7f7"
            ],
            [
             0.6,
             "#e6f5d0"
            ],
            [
             0.7,
             "#b8e186"
            ],
            [
             0.8,
             "#7fbc41"
            ],
            [
             0.9,
             "#4d9221"
            ],
            [
             1,
             "#276419"
            ]
           ],
           "sequential": [
            [
             0,
             "#0d0887"
            ],
            [
             0.1111111111111111,
             "#46039f"
            ],
            [
             0.2222222222222222,
             "#7201a8"
            ],
            [
             0.3333333333333333,
             "#9c179e"
            ],
            [
             0.4444444444444444,
             "#bd3786"
            ],
            [
             0.5555555555555556,
             "#d8576b"
            ],
            [
             0.6666666666666666,
             "#ed7953"
            ],
            [
             0.7777777777777778,
             "#fb9f3a"
            ],
            [
             0.8888888888888888,
             "#fdca26"
            ],
            [
             1,
             "#f0f921"
            ]
           ],
           "sequentialminus": [
            [
             0,
             "#0d0887"
            ],
            [
             0.1111111111111111,
             "#46039f"
            ],
            [
             0.2222222222222222,
             "#7201a8"
            ],
            [
             0.3333333333333333,
             "#9c179e"
            ],
            [
             0.4444444444444444,
             "#bd3786"
            ],
            [
             0.5555555555555556,
             "#d8576b"
            ],
            [
             0.6666666666666666,
             "#ed7953"
            ],
            [
             0.7777777777777778,
             "#fb9f3a"
            ],
            [
             0.8888888888888888,
             "#fdca26"
            ],
            [
             1,
             "#f0f921"
            ]
           ]
          },
          "colorway": [
           "#636efa",
           "#EF553B",
           "#00cc96",
           "#ab63fa",
           "#FFA15A",
           "#19d3f3",
           "#FF6692",
           "#B6E880",
           "#FF97FF",
           "#FECB52"
          ],
          "font": {
           "color": "#2a3f5f"
          },
          "geo": {
           "bgcolor": "white",
           "lakecolor": "white",
           "landcolor": "#E5ECF6",
           "showlakes": true,
           "showland": true,
           "subunitcolor": "white"
          },
          "hoverlabel": {
           "align": "left"
          },
          "hovermode": "closest",
          "mapbox": {
           "style": "light"
          },
          "paper_bgcolor": "white",
          "plot_bgcolor": "#E5ECF6",
          "polar": {
           "angularaxis": {
            "gridcolor": "white",
            "linecolor": "white",
            "ticks": ""
           },
           "bgcolor": "#E5ECF6",
           "radialaxis": {
            "gridcolor": "white",
            "linecolor": "white",
            "ticks": ""
           }
          },
          "scene": {
           "xaxis": {
            "backgroundcolor": "#E5ECF6",
            "gridcolor": "white",
            "gridwidth": 2,
            "linecolor": "white",
            "showbackground": true,
            "ticks": "",
            "zerolinecolor": "white"
           },
           "yaxis": {
            "backgroundcolor": "#E5ECF6",
            "gridcolor": "white",
            "gridwidth": 2,
            "linecolor": "white",
            "showbackground": true,
            "ticks": "",
            "zerolinecolor": "white"
           },
           "zaxis": {
            "backgroundcolor": "#E5ECF6",
            "gridcolor": "white",
            "gridwidth": 2,
            "linecolor": "white",
            "showbackground": true,
            "ticks": "",
            "zerolinecolor": "white"
           }
          },
          "shapedefaults": {
           "line": {
            "color": "#2a3f5f"
           }
          },
          "ternary": {
           "aaxis": {
            "gridcolor": "white",
            "linecolor": "white",
            "ticks": ""
           },
           "baxis": {
            "gridcolor": "white",
            "linecolor": "white",
            "ticks": ""
           },
           "bgcolor": "#E5ECF6",
           "caxis": {
            "gridcolor": "white",
            "linecolor": "white",
            "ticks": ""
           }
          },
          "title": {
           "x": 0.05
          },
          "xaxis": {
           "automargin": true,
           "gridcolor": "white",
           "linecolor": "white",
           "ticks": "",
           "title": {
            "standoff": 15
           },
           "zerolinecolor": "white",
           "zerolinewidth": 2
          },
          "yaxis": {
           "automargin": true,
           "gridcolor": "white",
           "linecolor": "white",
           "ticks": "",
           "title": {
            "standoff": 15
           },
           "zerolinecolor": "white",
           "zerolinewidth": 2
          }
         }
        },
        "title": {
         "font": {
          "color": "#4D5663"
         },
         "text": "Scatter de año y precio"
        },
        "xaxis": {
         "gridcolor": "#E1E5ED",
         "showgrid": true,
         "tickfont": {
          "color": "#4D5663"
         },
         "title": {
          "font": {
           "color": "#4D5663"
          },
          "text": ""
         },
         "zerolinecolor": "#E1E5ED"
        },
        "yaxis": {
         "gridcolor": "#E1E5ED",
         "showgrid": true,
         "tickfont": {
          "color": "#4D5663"
         },
         "title": {
          "font": {
           "color": "#4D5663"
          },
          "text": ""
         },
         "zerolinecolor": "#E1E5ED"
        }
       }
      },
      "text/html": [
       "<div>\n",
       "        \n",
       "        \n",
       "            <div id=\"5787e99f-311c-42b2-b940-14d1df125135\" class=\"plotly-graph-div\" style=\"height:525px; width:100%;\"></div>\n",
       "            <script type=\"text/javascript\">\n",
       "                require([\"plotly\"], function(Plotly) {\n",
       "                    window.PLOTLYENV=window.PLOTLYENV || {};\n",
       "                    window.PLOTLYENV.BASE_URL='https://plotly.com';\n",
       "                    \n",
       "                if (document.getElementById(\"5787e99f-311c-42b2-b940-14d1df125135\")) {\n",
       "                    Plotly.newPlot(\n",
       "                        '5787e99f-311c-42b2-b940-14d1df125135',\n",
       "                        [{\"line\": {\"color\": \"rgba(166, 206, 227, 1.0)\", \"dash\": \"solid\", \"shape\": \"linear\", \"width\": 1.3}, \"marker\": {\"size\": 10, \"symbol\": \"x\"}, \"mode\": \"markers\", \"name\": \"Precio\", \"text\": \"\", \"type\": \"scatter\", \"x\": [2013, 2018, 2018, 2019, 2019, 2019, 2018, 2013, 2017, 2013, 2014, 2013, 2012, 2018, 2013, 2016, 2019, 2018, 2018, 2017, 2017, 2017, 2017, 2017, 2018, 2020, 2018, 2019, 2017, 2019, 2014, 2017, 2019, 2017, 2020, 2019, 2014, 2020, 2020, 2013, 2011, 2017, 2020, 2012, 2019, 2014, 2017, 2017, 2013, 2012, 2017, 2018, 2012, 2018, 2013, 2017, 2011, 2012, 2013, 2011, 2011, 2011, 2016, 2012, 2019, 2016, 2017, 2020, 2016, 2012, 2016, 2017, 2012, 2017, 2014, 2017, 2017, 2014, 2016, 2012, 2020, 2018, 2011, 2012, 2011, 2018, 2019, 2018, 2014, 2017, 2012, 2016, 2019, 2017, 2019, 2018, 2017, 2014, 2018, 2014, 2012, 2020, 2014, 2012, 2011, 2019, 2016, 2012, 2019, 2010, 2019, 2013, 2017, 2011, 2012, 2013, 2011, 2016, 2010, 2012, 2018, 2018, 2013, 2010, 2014, 2012, 2017, 2017, 2018, 2016, 2016, 2012, 2012, 2019, 2017, 2013, 2012, 2012, 2014, 2020, 2019, 2017, 2014, 2020, 2018, 2018, 2019, 2017], \"y\": [4390000, 5200000, 7190000, 6990000, 6650000, 6590000, 5780000, 4200000, 5780000, 5000000, 4190000, 4400000, 3700000, 6190000, 4150000, 4490000, 5990000, 5890000, 5490000, 5190000, 5790000, 6300000, 5150000, 5700000, 5490000, 8490000, 6490000, 6280000, 5980000, 6000000, 3990000, 6490000, 6790000, 5990000, 6990000, 7490000, 4980000, 7090000, 6990000, 3490000, 3980000, 5890000, 8090000, 4190000, 6790000, 4990000, 5700000, 5880000, 4500000, 3200000, 5990000, 6190000, 3800000, 6490000, 4700000, 5700000, 3200000, 3600000, 4500000, 3550000, 3100, 4800000, 3000000, 3100000, 7000000, 5590000, 5600000, 7300000, 4550000, 3480000, 4750000, 5000000, 3500000, 6000000, 4290000, 5750000, 5900000, 4750000, 4750000, 3900000, 7600000, 5900000, 3850000, 4400000, 3200000, 6300000, 7480000, 5990000, 5280000, 6200000, 3600000, 6200000, 5690000, 6150000, 5490000, 5300000, 5300000, 4200000, 5700000, 3800000, 5790000, 6890000, 4500000, 2900000, 3800000, 6590000, 4700000, 2900000, 6700000, 2800000, 5990000, 4500000, 6450000, 3400000, 3500000, 4500000, 3700000, 5100000, 3300000, 3600000, 5700000, 6000000, 4550000, 3000000, 4600000, 3700000, 6300000, 5800000, 6700000, 4580000, 4500000, 3700000, 3600000, 7000000, 5990000, 4500000, 3750000, 3800000, 4490000, 8590000, 6190000, 6290000, 4050000, 8090000, 6190000, 5990000, 6990000, 5950000]}],\n",
       "                        {\"legend\": {\"bgcolor\": \"#FFFFFF\", \"font\": {\"color\": \"#4D5663\"}}, \"paper_bgcolor\": \"#FFFFFF\", \"plot_bgcolor\": \"#FFFFFF\", \"template\": {\"data\": {\"bar\": [{\"error_x\": {\"color\": \"#2a3f5f\"}, \"error_y\": {\"color\": \"#2a3f5f\"}, \"marker\": {\"line\": {\"color\": \"#E5ECF6\", \"width\": 0.5}}, \"type\": \"bar\"}], \"barpolar\": [{\"marker\": {\"line\": {\"color\": \"#E5ECF6\", \"width\": 0.5}}, \"type\": \"barpolar\"}], \"carpet\": [{\"aaxis\": {\"endlinecolor\": \"#2a3f5f\", \"gridcolor\": \"white\", \"linecolor\": \"white\", \"minorgridcolor\": \"white\", \"startlinecolor\": \"#2a3f5f\"}, \"baxis\": {\"endlinecolor\": \"#2a3f5f\", \"gridcolor\": \"white\", \"linecolor\": \"white\", \"minorgridcolor\": \"white\", \"startlinecolor\": \"#2a3f5f\"}, \"type\": \"carpet\"}], \"choropleth\": [{\"colorbar\": {\"outlinewidth\": 0, \"ticks\": \"\"}, \"type\": \"choropleth\"}], \"contour\": [{\"colorbar\": {\"outlinewidth\": 0, \"ticks\": \"\"}, \"colorscale\": [[0.0, \"#0d0887\"], [0.1111111111111111, \"#46039f\"], [0.2222222222222222, \"#7201a8\"], [0.3333333333333333, \"#9c179e\"], [0.4444444444444444, \"#bd3786\"], [0.5555555555555556, \"#d8576b\"], [0.6666666666666666, \"#ed7953\"], [0.7777777777777778, \"#fb9f3a\"], [0.8888888888888888, \"#fdca26\"], [1.0, \"#f0f921\"]], \"type\": \"contour\"}], \"contourcarpet\": [{\"colorbar\": {\"outlinewidth\": 0, \"ticks\": \"\"}, \"type\": \"contourcarpet\"}], \"heatmap\": [{\"colorbar\": {\"outlinewidth\": 0, \"ticks\": \"\"}, \"colorscale\": [[0.0, \"#0d0887\"], [0.1111111111111111, \"#46039f\"], [0.2222222222222222, \"#7201a8\"], [0.3333333333333333, \"#9c179e\"], [0.4444444444444444, \"#bd3786\"], [0.5555555555555556, \"#d8576b\"], [0.6666666666666666, \"#ed7953\"], [0.7777777777777778, \"#fb9f3a\"], [0.8888888888888888, \"#fdca26\"], [1.0, \"#f0f921\"]], \"type\": \"heatmap\"}], \"heatmapgl\": [{\"colorbar\": {\"outlinewidth\": 0, \"ticks\": \"\"}, \"colorscale\": [[0.0, \"#0d0887\"], [0.1111111111111111, \"#46039f\"], [0.2222222222222222, \"#7201a8\"], [0.3333333333333333, \"#9c179e\"], [0.4444444444444444, \"#bd3786\"], [0.5555555555555556, \"#d8576b\"], [0.6666666666666666, \"#ed7953\"], [0.7777777777777778, \"#fb9f3a\"], [0.8888888888888888, \"#fdca26\"], [1.0, \"#f0f921\"]], \"type\": \"heatmapgl\"}], \"histogram\": [{\"marker\": {\"colorbar\": {\"outlinewidth\": 0, \"ticks\": \"\"}}, \"type\": \"histogram\"}], \"histogram2d\": [{\"colorbar\": {\"outlinewidth\": 0, \"ticks\": \"\"}, \"colorscale\": [[0.0, \"#0d0887\"], [0.1111111111111111, \"#46039f\"], [0.2222222222222222, \"#7201a8\"], [0.3333333333333333, \"#9c179e\"], [0.4444444444444444, \"#bd3786\"], [0.5555555555555556, \"#d8576b\"], [0.6666666666666666, \"#ed7953\"], [0.7777777777777778, \"#fb9f3a\"], [0.8888888888888888, \"#fdca26\"], [1.0, \"#f0f921\"]], \"type\": \"histogram2d\"}], \"histogram2dcontour\": [{\"colorbar\": {\"outlinewidth\": 0, \"ticks\": \"\"}, \"colorscale\": [[0.0, \"#0d0887\"], [0.1111111111111111, \"#46039f\"], [0.2222222222222222, \"#7201a8\"], [0.3333333333333333, \"#9c179e\"], [0.4444444444444444, \"#bd3786\"], [0.5555555555555556, \"#d8576b\"], [0.6666666666666666, \"#ed7953\"], [0.7777777777777778, \"#fb9f3a\"], [0.8888888888888888, \"#fdca26\"], [1.0, \"#f0f921\"]], \"type\": \"histogram2dcontour\"}], \"mesh3d\": [{\"colorbar\": {\"outlinewidth\": 0, \"ticks\": \"\"}, \"type\": \"mesh3d\"}], \"parcoords\": [{\"line\": {\"colorbar\": {\"outlinewidth\": 0, \"ticks\": \"\"}}, \"type\": \"parcoords\"}], \"pie\": [{\"automargin\": true, \"type\": \"pie\"}], \"scatter\": [{\"marker\": {\"colorbar\": {\"outlinewidth\": 0, \"ticks\": \"\"}}, \"type\": \"scatter\"}], \"scatter3d\": [{\"line\": {\"colorbar\": {\"outlinewidth\": 0, \"ticks\": \"\"}}, \"marker\": {\"colorbar\": {\"outlinewidth\": 0, \"ticks\": \"\"}}, \"type\": \"scatter3d\"}], \"scattercarpet\": [{\"marker\": {\"colorbar\": {\"outlinewidth\": 0, \"ticks\": \"\"}}, \"type\": \"scattercarpet\"}], \"scattergeo\": [{\"marker\": {\"colorbar\": {\"outlinewidth\": 0, \"ticks\": \"\"}}, \"type\": \"scattergeo\"}], \"scattergl\": [{\"marker\": {\"colorbar\": {\"outlinewidth\": 0, \"ticks\": \"\"}}, \"type\": \"scattergl\"}], \"scattermapbox\": [{\"marker\": {\"colorbar\": {\"outlinewidth\": 0, \"ticks\": \"\"}}, \"type\": \"scattermapbox\"}], \"scatterpolar\": [{\"marker\": {\"colorbar\": {\"outlinewidth\": 0, \"ticks\": \"\"}}, \"type\": \"scatterpolar\"}], \"scatterpolargl\": [{\"marker\": {\"colorbar\": {\"outlinewidth\": 0, \"ticks\": \"\"}}, \"type\": \"scatterpolargl\"}], \"scatterternary\": [{\"marker\": {\"colorbar\": {\"outlinewidth\": 0, \"ticks\": \"\"}}, \"type\": \"scatterternary\"}], \"surface\": [{\"colorbar\": {\"outlinewidth\": 0, \"ticks\": \"\"}, \"colorscale\": [[0.0, \"#0d0887\"], [0.1111111111111111, \"#46039f\"], [0.2222222222222222, \"#7201a8\"], [0.3333333333333333, \"#9c179e\"], [0.4444444444444444, \"#bd3786\"], [0.5555555555555556, \"#d8576b\"], [0.6666666666666666, \"#ed7953\"], [0.7777777777777778, \"#fb9f3a\"], [0.8888888888888888, \"#fdca26\"], [1.0, \"#f0f921\"]], \"type\": \"surface\"}], \"table\": [{\"cells\": {\"fill\": {\"color\": \"#EBF0F8\"}, \"line\": {\"color\": \"white\"}}, \"header\": {\"fill\": {\"color\": \"#C8D4E3\"}, \"line\": {\"color\": \"white\"}}, \"type\": \"table\"}]}, \"layout\": {\"annotationdefaults\": {\"arrowcolor\": \"#2a3f5f\", \"arrowhead\": 0, \"arrowwidth\": 1}, \"coloraxis\": {\"colorbar\": {\"outlinewidth\": 0, \"ticks\": \"\"}}, \"colorscale\": {\"diverging\": [[0, \"#8e0152\"], [0.1, \"#c51b7d\"], [0.2, \"#de77ae\"], [0.3, \"#f1b6da\"], [0.4, \"#fde0ef\"], [0.5, \"#f7f7f7\"], [0.6, \"#e6f5d0\"], [0.7, \"#b8e186\"], [0.8, \"#7fbc41\"], [0.9, \"#4d9221\"], [1, \"#276419\"]], \"sequential\": [[0.0, \"#0d0887\"], [0.1111111111111111, \"#46039f\"], [0.2222222222222222, \"#7201a8\"], [0.3333333333333333, \"#9c179e\"], [0.4444444444444444, \"#bd3786\"], [0.5555555555555556, \"#d8576b\"], [0.6666666666666666, \"#ed7953\"], [0.7777777777777778, \"#fb9f3a\"], [0.8888888888888888, \"#fdca26\"], [1.0, \"#f0f921\"]], \"sequentialminus\": [[0.0, \"#0d0887\"], [0.1111111111111111, \"#46039f\"], [0.2222222222222222, \"#7201a8\"], [0.3333333333333333, \"#9c179e\"], [0.4444444444444444, \"#bd3786\"], [0.5555555555555556, \"#d8576b\"], [0.6666666666666666, \"#ed7953\"], [0.7777777777777778, \"#fb9f3a\"], [0.8888888888888888, \"#fdca26\"], [1.0, \"#f0f921\"]]}, \"colorway\": [\"#636efa\", \"#EF553B\", \"#00cc96\", \"#ab63fa\", \"#FFA15A\", \"#19d3f3\", \"#FF6692\", \"#B6E880\", \"#FF97FF\", \"#FECB52\"], \"font\": {\"color\": \"#2a3f5f\"}, \"geo\": {\"bgcolor\": \"white\", \"lakecolor\": \"white\", \"landcolor\": \"#E5ECF6\", \"showlakes\": true, \"showland\": true, \"subunitcolor\": \"white\"}, \"hoverlabel\": {\"align\": \"left\"}, \"hovermode\": \"closest\", \"mapbox\": {\"style\": \"light\"}, \"paper_bgcolor\": \"white\", \"plot_bgcolor\": \"#E5ECF6\", \"polar\": {\"angularaxis\": {\"gridcolor\": \"white\", \"linecolor\": \"white\", \"ticks\": \"\"}, \"bgcolor\": \"#E5ECF6\", \"radialaxis\": {\"gridcolor\": \"white\", \"linecolor\": \"white\", \"ticks\": \"\"}}, \"scene\": {\"xaxis\": {\"backgroundcolor\": \"#E5ECF6\", \"gridcolor\": \"white\", \"gridwidth\": 2, \"linecolor\": \"white\", \"showbackground\": true, \"ticks\": \"\", \"zerolinecolor\": \"white\"}, \"yaxis\": {\"backgroundcolor\": \"#E5ECF6\", \"gridcolor\": \"white\", \"gridwidth\": 2, \"linecolor\": \"white\", \"showbackground\": true, \"ticks\": \"\", \"zerolinecolor\": \"white\"}, \"zaxis\": {\"backgroundcolor\": \"#E5ECF6\", \"gridcolor\": \"white\", \"gridwidth\": 2, \"linecolor\": \"white\", \"showbackground\": true, \"ticks\": \"\", \"zerolinecolor\": \"white\"}}, \"shapedefaults\": {\"line\": {\"color\": \"#2a3f5f\"}}, \"ternary\": {\"aaxis\": {\"gridcolor\": \"white\", \"linecolor\": \"white\", \"ticks\": \"\"}, \"baxis\": {\"gridcolor\": \"white\", \"linecolor\": \"white\", \"ticks\": \"\"}, \"bgcolor\": \"#E5ECF6\", \"caxis\": {\"gridcolor\": \"white\", \"linecolor\": \"white\", \"ticks\": \"\"}}, \"title\": {\"x\": 0.05}, \"xaxis\": {\"automargin\": true, \"gridcolor\": \"white\", \"linecolor\": \"white\", \"ticks\": \"\", \"title\": {\"standoff\": 15}, \"zerolinecolor\": \"white\", \"zerolinewidth\": 2}, \"yaxis\": {\"automargin\": true, \"gridcolor\": \"white\", \"linecolor\": \"white\", \"ticks\": \"\", \"title\": {\"standoff\": 15}, \"zerolinecolor\": \"white\", \"zerolinewidth\": 2}}}, \"title\": {\"font\": {\"color\": \"#4D5663\"}, \"text\": \"Scatter de a\\u00f1o y precio\"}, \"xaxis\": {\"gridcolor\": \"#E1E5ED\", \"showgrid\": true, \"tickfont\": {\"color\": \"#4D5663\"}, \"title\": {\"font\": {\"color\": \"#4D5663\"}, \"text\": \"\"}, \"zerolinecolor\": \"#E1E5ED\"}, \"yaxis\": {\"gridcolor\": \"#E1E5ED\", \"showgrid\": true, \"tickfont\": {\"color\": \"#4D5663\"}, \"title\": {\"font\": {\"color\": \"#4D5663\"}, \"text\": \"\"}, \"zerolinecolor\": \"#E1E5ED\"}},\n",
       "                        {\"showLink\": true, \"linkText\": \"Export to plotly.com\", \"plotlyServerURL\": \"https://plotly.com\", \"responsive\": true}\n",
       "                    ).then(function(){\n",
       "                            \n",
       "var gd = document.getElementById('5787e99f-311c-42b2-b940-14d1df125135');\n",
       "var x = new MutationObserver(function (mutations, observer) {{\n",
       "        var display = window.getComputedStyle(gd).display;\n",
       "        if (!display || display === 'none') {{\n",
       "            console.log([gd, 'removed!']);\n",
       "            Plotly.purge(gd);\n",
       "            observer.disconnect();\n",
       "        }}\n",
       "}});\n",
       "\n",
       "// Listen for the removal of the full notebook cells\n",
       "var notebookContainer = gd.closest('#notebook-container');\n",
       "if (notebookContainer) {{\n",
       "    x.observe(notebookContainer, {childList: true});\n",
       "}}\n",
       "\n",
       "// Listen for the clearing of the current output cell\n",
       "var outputEl = gd.closest('.output');\n",
       "if (outputEl) {{\n",
       "    x.observe(outputEl, {childList: true});\n",
       "}}\n",
       "\n",
       "                        })\n",
       "                };\n",
       "                });\n",
       "            </script>\n",
       "        </div>"
      ]
     },
     "metadata": {},
     "output_type": "display_data"
    }
   ],
   "source": [
    "df.iplot(kind='scatter',\n",
    "         mode='markers',\n",
    "         size=10,\n",
    "         symbol='x',\n",
    "         colorscale='paired',\n",
    "         x = 'Año',\n",
    "         y = 'Precio',\n",
    "         title='Scatter de año y precio')"
   ]
  },
  {
   "cell_type": "code",
   "execution_count": 50,
   "metadata": {},
   "outputs": [
    {
     "data": {
      "text/plain": [
       "15     https://www.chileautos.cl/vehiculos/detalles/2...\n",
       "64     https://www.chileautos.cl/vehiculos/detalles/2...\n",
       "67     https://www.chileautos.cl/vehiculos/detalles/2...\n",
       "70     https://www.chileautos.cl/vehiculos/detalles/2...\n",
       "72     https://www.chileautos.cl/vehiculos/detalles/2...\n",
       "80     https://www.chileautos.cl/vehiculos/detalles/2...\n",
       "94     https://www.chileautos.cl/vehiculos/detalles/2...\n",
       "111    https://www.chileautos.cl/vehiculos/detalles/2...\n",
       "124    https://www.chileautos.cl/vehiculos/detalles/2...\n",
       "137    https://www.chileautos.cl/vehiculos/detalles/2...\n",
       "138    https://www.chileautos.cl/vehiculos/detalles/2...\n",
       "Name: Link, dtype: object"
      ]
     },
     "execution_count": 50,
     "metadata": {},
     "output_type": "execute_result"
    }
   ],
   "source": [
    "df.loc[df['Año']==2016, 'Link' ]"
   ]
  },
  {
   "cell_type": "code",
   "execution_count": null,
   "metadata": {},
   "outputs": [],
   "source": []
  }
 ],
 "metadata": {
  "kernelspec": {
   "display_name": "Python 3",
   "language": "python",
   "name": "python3"
  },
  "language_info": {
   "codemirror_mode": {
    "name": "ipython",
    "version": 3
   },
   "file_extension": ".py",
   "mimetype": "text/x-python",
   "name": "python",
   "nbconvert_exporter": "python",
   "pygments_lexer": "ipython3",
   "version": "3.8.2"
  }
 },
 "nbformat": 4,
 "nbformat_minor": 4
}
